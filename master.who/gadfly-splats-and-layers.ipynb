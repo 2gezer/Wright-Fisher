{
 "cells": [
  {
   "cell_type": "markdown",
   "metadata": {},
   "source": [
    "The [Gadfly](http://gadflyjl.org/) package is pretty much the coolest thing since sliced bread when it comes to plotting in Julia.\n",
    "While it's designed for plotting statistical graphics, having it's roots in Hadley Wickham's ggplot2 for R, it can definitely serve to make some really nice plots of any kind.\n",
    "\n",
    "This tutorial will focus on using the layering functionality to plot multiple lines of data on a single plot conveniently using the splat (`...`) operator.\n",
    "I will attempt to use the word splat as many times as possible because it's great.\n",
    "\n",
    "I will assume you know the basics of Gadfly and can work with layers.\n",
    "You can see more [here](http://gadflyjl.org/#layers), but basically you make a layer for each aesthetic you want to add.\n",
    "So if you want lines AND points, you use layers.\n",
    "You can also use layers for multiple lines, which is what we're doing here."
   ]
  },
  {
   "cell_type": "markdown",
   "metadata": {},
   "source": [
    "There are some prerequisite packages for running the notebook if that's what you're into.\n",
    "Obviously you will need Gadfly. \n",
    "Install with\n",
    "\n",
    "```julia\n",
    "    Pkg.add(\"Gadfly\")\n",
    "```\n",
    "\n",
    "You will also need RungeKutta, DynamicalSystems, and ColorBrewer.\n",
    "Those you can install with the following commands:\n",
    "\n",
    "```julia\n",
    "    Pkg.clone(\"git://github.com/timothyrenner/RungeKutta.jl.git\")\n",
    "    Pkg.clone(\"git://github.com/timothyrenner/DynamicalSystems.jl.git\")\n",
    "    Pkg.clone(\"git://github.com/timothyrenner/ColorBrewer.jl.git\")\n",
    "```\n",
    "    \n",
    "Those three are written by yours truly."
   ]
  },
  {
   "cell_type": "code",
   "execution_count": 3,
   "metadata": {
    "collapsed": false
   },
   "outputs": [
    {
     "name": "stderr",
     "output_type": "stream",
     "text": [
      "\u001b[1m\u001b[34mINFO: Cloning RungeKutta from git://github.com/timothyrenner/RungeKutta.jl.git\n",
      "\u001b[0m\u001b[1m\u001b[34mINFO: Computing changes...\n",
      "\u001b[0m\u001b[1m\u001b[34mINFO: Cloning DynamicalSystems from git://github.com/timothyrenner/DynamicalSystems.jl.git\n",
      "\u001b[0m\u001b[1m\u001b[34mINFO: Computing changes...\n",
      "\u001b[0m\u001b[1m\u001b[34mINFO: Cloning ColorBrewer from git://github.com/timothyrenner/ColorBrewer.jl.git\n",
      "\u001b[0m\u001b[1m\u001b[34mINFO: Computing changes...\n",
      "\u001b[0m\u001b[1m\u001b[34mINFO: No packages to install, update or remove\n",
      "\u001b[0m\u001b[1m\u001b[34mINFO: Package database updated\n",
      "\u001b[0m"
     ]
    }
   ],
   "source": [
    "\n",
    "using Gadfly\n",
    "using DynamicalSystems\n",
    "using RungeKutta\n",
    "using ColorBrewer"
   ]
  },
  {
   "cell_type": "markdown",
   "metadata": {},
   "source": [
    "What we're going to do is plot ten different orbits of a damped harmonic oscillator on the same plot to make a pretty picture."
   ]
  },
  {
   "cell_type": "markdown",
   "metadata": {},
   "source": [
    "The Math\n",
    "--------\n",
    "\n",
    "First, we need to set up the equations for solving.\n",
    "The `harmonicOscillator` function in DynamicalSystems is the starting point.\n",
    "It's going to define the function we need to feed to the solver."
   ]
  },
  {
   "cell_type": "code",
   "execution_count": 4,
   "metadata": {
    "collapsed": false
   },
   "outputs": [],
   "source": [
    "# Set up the ODEs.\n",
    "ω0 = 2.5;\n",
    "β = 1.0; # β is the damping coefficient.\n",
    "\n",
    "# harmonicOscillator from the DynamicalSystems package.\n",
    "f = harmonicOscillator(ω0, beta=β);"
   ]
  },
  {
   "cell_type": "markdown",
   "metadata": {},
   "source": [
    "Next, we need to set up the initial conditions.\n",
    "For this plot, we can vary the initial position, and start with zero initial velocity.\n",
    "Don't sweat these details too much, they're just needed to get a set of solutions we can plot."
   ]
  },
  {
   "cell_type": "code",
   "execution_count": 5,
   "metadata": {
    "collapsed": false
   },
   "outputs": [
    {
     "ename": "LoadError",
     "evalue": "DimensionMismatch(\"tried to assign 1-element array to 1×11 destination\")",
     "output_type": "error",
     "traceback": [
      "DimensionMismatch(\"tried to assign 1-element array to 1×11 destination\")",
      "",
      " in throw_setindex_mismatch(::Array{FloatRange{Float64},1}, ::Tuple{Int64,Int64}) at ./operators.jl:421",
      " in setindex_shape_check(::Array{FloatRange{Float64},1}, ::Int64, ::Int64) at ./operators.jl:473",
      " in macro expansion at ./multidimensional.jl:425 [inlined]",
      " in _unsafe_batchsetindex!(::Array{Float64,2}, ::Array{FloatRange{Float64},1}, ::Int64, ::Colon) at ./multidimensional.jl:421",
      " in setindex!(::Array{Float64,2}, ::Array{FloatRange{Float64},1}, ::Int64, ::Colon) at ./abstractarray.jl:832"
     ]
    }
   ],
   "source": [
    "x0s = zeros(2,11);\n",
    "x0s[1,:] = [0.0:0.1:1.0];\n",
    "h = 0.0001;\n",
    "n = 100000;"
   ]
  },
  {
   "cell_type": "markdown",
   "metadata": {},
   "source": [
    "Next, we need a place to put the solution.\n",
    "We'll just save the positions and time for these plots, and ignore the velocity."
   ]
  },
  {
   "cell_type": "code",
   "execution_count": 6,
   "metadata": {
    "collapsed": false
   },
   "outputs": [
    {
     "ename": "LoadError",
     "evalue": "UndefVarError: n not defined",
     "output_type": "error",
     "traceback": [
      "UndefVarError: n not defined",
      ""
     ]
    }
   ],
   "source": [
    "x = zeros(11, n+1); # Each column is a different x0.\n",
    "t = zeros(n+1); # The times will be the same for all x0s.\n",
    "\n",
    "for ii=1:11\n",
    "    \n",
    "    # Solve the ODE with an order 4 RK (from the RungeKutta package).\n",
    "    tnew, xnew = rk4f(f, x0s[:,ii], 0.0, h, n);\n",
    "    \n",
    "    # Save the x solution.\n",
    "    x[ii,:] = xnew[1,:];\n",
    "    \n",
    "    # Save the time only once.\n",
    "    if ii==1\n",
    "        t = tnew;\n",
    "    end\n",
    "end"
   ]
  },
  {
   "cell_type": "markdown",
   "metadata": {},
   "source": [
    "Okay, all done with the math.\n",
    "On to the point."
   ]
  },
  {
   "cell_type": "markdown",
   "metadata": {},
   "source": [
    "Splatting Layers\n",
    "----------------\n",
    "\n",
    "We've got 11 lines we want to plot all at once with Gadfly.\n",
    "The naive way would be to write something like:\n",
    "\n",
    "```julia\n",
    "draw(PNG(24cm, 18cm), plot(\n",
    "    layer(x=t, y=x[1,:], Geom.path),\n",
    "    layer(x=t, y=x[2,:], Geom.path), # This is getting old...\n",
    "    layer(x=t, y=x[3,:], Geom.path), # Srsly\n",
    "    layer(x=t, y=x[4,:], Geom.path), # F**k it I'm getting a beer.\n",
    "```\n",
    "\n",
    "No need to fear, this tedium is unnecessary!\n",
    "The trick is to splat an array of layers into the plot function.\n",
    "\n",
    "***But wait!*** you say, ***if you have to make an array of layers individually, aren't you ... not saving time?***\n",
    "\n",
    "The trick to making *that* easy is to use a comprehension.\n",
    "\n",
    "##### BEHOLD"
   ]
  },
  {
   "cell_type": "code",
   "execution_count": 7,
   "metadata": {
    "collapsed": false
   },
   "outputs": [
    {
     "ename": "LoadError",
     "evalue": "UndefVarError: t not defined",
     "output_type": "error",
     "traceback": [
      "UndefVarError: t not defined",
      "",
      " in collect(::Base.Generator{UnitRange{Int64},##1#2}) at ./array.jl:307"
     ]
    }
   ],
   "source": [
    "# Create the color palette. This is a function in ColorBrewer.\n",
    "colors = palette(\"PRGn\", 11);\n",
    "\n",
    "# Make the layers with a comprehension!\n",
    "layers = [layer(\n",
    "    x=t, y=x[ii,:], \n",
    "    Geom.path, \n",
    "    Theme(default_color=colors[ii])) \n",
    "    for ii in 1:11];"
   ]
  },
  {
   "cell_type": "markdown",
   "metadata": {},
   "source": [
    "What I did above was just create an array of layers based on our solution matrix `x` and the color palette.\n",
    "You could also have started with an empty array of layers and filled it in a `for` loop, but I think comprehensions are cleaner."
   ]
  },
  {
   "cell_type": "markdown",
   "metadata": {},
   "source": [
    "Now that we've got our layers ready, it's time for the plot.\n",
    "Gadfly's plot function doesn't actually like that our layers are in an array.\n",
    "If you try it you'll get an error.\n",
    "That's where the splat (`...`) comes in.\n",
    "\n",
    "See, when we splat the array, it's expanded into a whole bunch of *individual* arguments, which the plot function _will_ take."
   ]
  },
  {
   "cell_type": "code",
   "execution_count": 8,
   "metadata": {
    "collapsed": false
   },
   "outputs": [
    {
     "name": "stderr",
     "output_type": "stream",
     "text": [
      "\u001b[1m\u001b[31mWARNING: color(\"white\") is deprecated, use colorant\"white\" or parse(Colorant, \"white\")\u001b[0m\n",
      " in depwarn(::String, ::Symbol) at ./deprecated.jl:64\n",
      " in color(::String) at /Users/sunshine/.julia/v0.5/Colors/src/parse.jl:152\n",
      " in include_string(::String, ::String) at ./loading.jl:441\n",
      " in execute_request(::ZMQ.Socket, ::IJulia.Msg) at /Users/sunshine/.julia/v0.5/IJulia/src/execute_request.jl:157\n",
      " in eventloop(::ZMQ.Socket) at /Users/sunshine/.julia/v0.5/IJulia/src/eventloop.jl:8\n",
      " in (::IJulia.##13#19)() at ./task.jl:360\n",
      "while loading In[8], in expression starting on line 2\n"
     ]
    },
    {
     "ename": "LoadError",
     "evalue": "UndefVarError: layers not defined",
     "output_type": "error",
     "traceback": [
      "UndefVarError: layers not defined",
      ""
     ]
    }
   ],
   "source": [
    "# Create a blank theme for white backgrounds. Because ... art.\n",
    "blankTheme = Theme(\n",
    "    grid_color=color(\"white\"), \n",
    "    panel_fill=color(\"white\"),\n",
    "    major_label_color=color(\"white\"), \n",
    "    minor_label_color=color(\"white\"));\n",
    "\n",
    "# Now draw the plot (it takes a bit). \n",
    "# Note how easy it is with the splat.\n",
    "draw(PNG(24cm, 18cm), plot(layers..., blankTheme))"
   ]
  },
  {
   "cell_type": "markdown",
   "metadata": {},
   "source": [
    "And there we have it - a nifty (in my opinion) picture with a lot of lines in Gadfly without a lot of pain.\n",
    "Unless you consider ODEs pain.\n",
    "\n",
    "You can read more about splats in the Julia documentation [here](http://docs.julialang.org/en/release-0.3/manual/functions/#varargs-functions). \n",
    "If you do, you'll notice they call it \"splice.\"\n",
    "Everybody else calls it splat, for reasons related to the word's awesomeness."
   ]
  },
  {
   "cell_type": "markdown",
   "metadata": {},
   "source": [
    "tl;dr\n",
    "-----\n",
    "\n",
    "Use a comprehension to create layers for a Gadfly plot and splat them in the plot function."
   ]
  },
  {
   "cell_type": "markdown",
   "metadata": {},
   "source": [
    "A browser find has revealed to me that I managed to use the word \"splat\" eleven times in this post.\n",
    "Well, twelve times now."
   ]
  }
 ],
 "metadata": {
  "kernelspec": {
   "display_name": "Julia 0.5.0",
   "language": "julia",
   "name": "julia-0.5"
  },
  "language_info": {
   "file_extension": ".jl",
   "mimetype": "application/julia",
   "name": "julia",
   "version": "0.5.0"
  }
 },
 "nbformat": 4,
 "nbformat_minor": 0
}
