{
 "cells": [
  {
   "cell_type": "code",
   "execution_count": 50,
   "metadata": {
    "collapsed": false
   },
   "outputs": [
    {
     "ename": "LoadError",
     "evalue": "MethodError: no method matching DataArrays.DataArray{T,N}(; A=[1,3,5,7,9,11,13,15], B=1:8, C=2:9)\u001b[0m\nClosest candidates are:\n  DataArrays.DataArray{T,N}{T,N}(\u001b[1m\u001b[31m::Array{T,N}\u001b[0m) at /Users/sunshine/.julia/v0.5/DataArrays/src/dataarray.jl:75\u001b[1m\u001b[31m got unsupported keyword arguments \"A\", \"B\", \"C\"\u001b[0m\n  DataArrays.DataArray{T,N}{T,N}(\u001b[1m\u001b[31m::Array{T,N}\u001b[0m, \u001b[1m\u001b[31m::BitArray{N}\u001b[0m) at /Users/sunshine/.julia/v0.5/DataArrays/src/dataarray.jl:75\u001b[1m\u001b[31m got unsupported keyword arguments \"A\", \"B\", \"C\"\u001b[0m\n  DataArrays.DataArray{T,N}(\u001b[1m\u001b[31m::Array{T,N}\u001b[0m, \u001b[1m\u001b[31m::Array{Bool,N}\u001b[0m) at /Users/sunshine/.julia/v0.5/DataArrays/src/dataarray.jl:94\u001b[1m\u001b[31m got unsupported keyword arguments \"A\", \"B\", \"C\"\u001b[0m\n  ...\u001b[0m",
     "output_type": "error",
     "traceback": [
      "MethodError: no method matching DataArrays.DataArray{T,N}(; A=[1,3,5,7,9,11,13,15], B=1:8, C=2:9)\u001b[0m\nClosest candidates are:\n  DataArrays.DataArray{T,N}{T,N}(\u001b[1m\u001b[31m::Array{T,N}\u001b[0m) at /Users/sunshine/.julia/v0.5/DataArrays/src/dataarray.jl:75\u001b[1m\u001b[31m got unsupported keyword arguments \"A\", \"B\", \"C\"\u001b[0m\n  DataArrays.DataArray{T,N}{T,N}(\u001b[1m\u001b[31m::Array{T,N}\u001b[0m, \u001b[1m\u001b[31m::BitArray{N}\u001b[0m) at /Users/sunshine/.julia/v0.5/DataArrays/src/dataarray.jl:75\u001b[1m\u001b[31m got unsupported keyword arguments \"A\", \"B\", \"C\"\u001b[0m\n  DataArrays.DataArray{T,N}(\u001b[1m\u001b[31m::Array{T,N}\u001b[0m, \u001b[1m\u001b[31m::Array{Bool,N}\u001b[0m) at /Users/sunshine/.julia/v0.5/DataArrays/src/dataarray.jl:94\u001b[1m\u001b[31m got unsupported keyword arguments \"A\", \"B\", \"C\"\u001b[0m\n  ...\u001b[0m",
      ""
     ]
    }
   ],
   "source": [
    "\n",
    "using DataArrays\n",
    "def = DataArray(A=collect(1:2:16),B=1:8,C=2:9)\n",
    "def\n"
   ]
  },
  {
   "cell_type": "code",
   "execution_count": 49,
   "metadata": {
    "collapsed": false
   },
   "outputs": [
    {
     "ename": "LoadError",
     "evalue": "MethodError: no method matching /(::Nullable{Int64}, ::Int64)\u001b[0m\nClosest candidates are:\n  /(\u001b[1m\u001b[31m::BigFloat\u001b[0m, ::Union{Int16,Int32,Int64,Int8}) at mpfr.jl:267\n  /(\u001b[1m\u001b[31m::DataArrays.NAtype\u001b[0m, ::Number) at /Users/sunshine/.julia/v0.5/DataArrays/src/operators.jl:631\n  /(\u001b[1m\u001b[31m::Integer\u001b[0m, ::Integer) at int.jl:35\n  ...\u001b[0m",
     "output_type": "error",
     "traceback": [
      "MethodError: no method matching /(::Nullable{Int64}, ::Int64)\u001b[0m\nClosest candidates are:\n  /(\u001b[1m\u001b[31m::BigFloat\u001b[0m, ::Union{Int16,Int32,Int64,Int8}) at mpfr.jl:267\n  /(\u001b[1m\u001b[31m::DataArrays.NAtype\u001b[0m, ::Number) at /Users/sunshine/.julia/v0.5/DataArrays/src/operators.jl:631\n  /(\u001b[1m\u001b[31m::Integer\u001b[0m, ::Integer) at int.jl:35\n  ...\u001b[0m",
      "",
      " in mean(::NullableArrays.NullableArray{Int64,1}) at ./statistics.jl:28"
     ]
    }
   ],
   "source": [
    "mean(def[:A])"
   ]
  },
  {
   "cell_type": "code",
   "execution_count": 4,
   "metadata": {
    "collapsed": false
   },
   "outputs": [
    {
     "ename": "LoadError",
     "evalue": "MethodError: no method matching middle(::Nullable{Int64}, ::Nullable{Int64})",
     "output_type": "error",
     "traceback": [
      "MethodError: no method matching middle(::Nullable{Int64}, ::Nullable{Int64})",
      "",
      " in median!(::Array{Nullable{Int64},1}) at ./statistics.jl:561",
      " in median(::NullableArrays.NullableArray{Int64,1}) at ./statistics.jl:565"
     ]
    }
   ],
   "source": [
    "median(df[:A])"
   ]
  },
  {
   "cell_type": "code",
   "execution_count": 33,
   "metadata": {
    "collapsed": false
   },
   "outputs": [
    {
     "data": {
      "text/plain": [
       "5-element DataArrays.DataArray{Int64,1}:\n",
       "  9\n",
       "  1\n",
       "  2\n",
       "  5\n",
       " 20"
      ]
     },
     "execution_count": 33,
     "metadata": {},
     "output_type": "execute_result"
    }
   ],
   "source": [
    "dv = @data([9, 1, 2, 5, 20])"
   ]
  },
  {
   "cell_type": "code",
   "execution_count": 34,
   "metadata": {
    "collapsed": false
   },
   "outputs": [
    {
     "data": {
      "text/plain": [
       "5.0"
      ]
     },
     "execution_count": 34,
     "metadata": {},
     "output_type": "execute_result"
    }
   ],
   "source": [
    "median(dv)"
   ]
  },
  {
   "cell_type": "code",
   "execution_count": 27,
   "metadata": {
    "collapsed": false
   },
   "outputs": [
    {
     "data": {
      "text/plain": [
       "5-element DataArrays.DataArray{Int64,1}:\n",
       " 9\n",
       " 3\n",
       " 2\n",
       " 5\n",
       " 4"
      ]
     },
     "execution_count": 27,
     "metadata": {},
     "output_type": "execute_result"
    }
   ],
   "source": [
    "dv"
   ]
  },
  {
   "cell_type": "code",
   "execution_count": null,
   "metadata": {
    "collapsed": true
   },
   "outputs": [],
   "source": []
  }
 ],
 "metadata": {
  "kernelspec": {
   "display_name": "Julia 0.5.0",
   "language": "julia",
   "name": "julia-0.5"
  },
  "language_info": {
   "file_extension": ".jl",
   "mimetype": "application/julia",
   "name": "julia",
   "version": "0.5.0"
  }
 },
 "nbformat": 4,
 "nbformat_minor": 2
}
